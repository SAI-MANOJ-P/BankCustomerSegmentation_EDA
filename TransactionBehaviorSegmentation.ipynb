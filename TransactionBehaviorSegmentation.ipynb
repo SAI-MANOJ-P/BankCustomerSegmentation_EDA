{
 "cells": [
  {
   "cell_type": "code",
   "execution_count": 86,
   "metadata": {},
   "outputs": [],
   "source": [
    "# importing the dataset\n",
    "import pandas as pd\n",
    "data = pd.read_csv('D:/Sai Manoj P/projects/CustomerSegmentationAnalysis/cleaned_data.csv')"
   ]
  },
  {
   "cell_type": "code",
   "execution_count": 87,
   "metadata": {},
   "outputs": [
    {
     "data": {
      "text/plain": [
       "TransactionID              0\n",
       "CustomerID                 0\n",
       "CustomerDOB                0\n",
       "CustGender                 0\n",
       "CustLocation               0\n",
       "CustAccountBalance         0\n",
       "TransactionDate            0\n",
       "TransactionTime            0\n",
       "TransactionAmount (INR)    0\n",
       "Age                        0\n",
       "AgeGroup                   0\n",
       "dtype: int64"
      ]
     },
     "execution_count": 87,
     "metadata": {},
     "output_type": "execute_result"
    }
   ],
   "source": [
    "data.isnull().sum()"
   ]
  },
  {
   "cell_type": "markdown",
   "metadata": {},
   "source": [
    "imported the cleaned dataset, so no cleaning operations will be performed."
   ]
  },
  {
   "cell_type": "code",
   "execution_count": 88,
   "metadata": {},
   "outputs": [
    {
     "data": {
      "text/plain": [
       "(1041614, 11)"
      ]
     },
     "execution_count": 88,
     "metadata": {},
     "output_type": "execute_result"
    }
   ],
   "source": [
    "data.shape"
   ]
  },
  {
   "cell_type": "code",
   "execution_count": 89,
   "metadata": {},
   "outputs": [
    {
     "data": {
      "text/plain": [
       "Index(['TransactionID', 'CustomerID', 'CustomerDOB', 'CustGender',\n",
       "       'CustLocation', 'CustAccountBalance', 'TransactionDate',\n",
       "       'TransactionTime', 'TransactionAmount (INR)', 'Age', 'AgeGroup'],\n",
       "      dtype='object')"
      ]
     },
     "execution_count": 89,
     "metadata": {},
     "output_type": "execute_result"
    }
   ],
   "source": [
    "#Exploratory data analysis\n",
    "data.columns"
   ]
  },
  {
   "cell_type": "code",
   "execution_count": 90,
   "metadata": {},
   "outputs": [
    {
     "data": {
      "text/html": [
       "<div>\n",
       "<style scoped>\n",
       "    .dataframe tbody tr th:only-of-type {\n",
       "        vertical-align: middle;\n",
       "    }\n",
       "\n",
       "    .dataframe tbody tr th {\n",
       "        vertical-align: top;\n",
       "    }\n",
       "\n",
       "    .dataframe thead th {\n",
       "        text-align: right;\n",
       "    }\n",
       "</style>\n",
       "<table border=\"1\" class=\"dataframe\">\n",
       "  <thead>\n",
       "    <tr style=\"text-align: right;\">\n",
       "      <th></th>\n",
       "      <th>CustAccountBalance</th>\n",
       "      <th>TransactionTime</th>\n",
       "      <th>TransactionAmount (INR)</th>\n",
       "      <th>Age</th>\n",
       "    </tr>\n",
       "  </thead>\n",
       "  <tbody>\n",
       "    <tr>\n",
       "      <th>count</th>\n",
       "      <td>1041614.00</td>\n",
       "      <td>1041614.00</td>\n",
       "      <td>1041614.00</td>\n",
       "      <td>1041614.00</td>\n",
       "    </tr>\n",
       "    <tr>\n",
       "      <th>mean</th>\n",
       "      <td>114998.61</td>\n",
       "      <td>157122.12</td>\n",
       "      <td>1566.10</td>\n",
       "      <td>41.11</td>\n",
       "    </tr>\n",
       "    <tr>\n",
       "      <th>std</th>\n",
       "      <td>846760.94</td>\n",
       "      <td>51263.52</td>\n",
       "      <td>6561.46</td>\n",
       "      <td>42.90</td>\n",
       "    </tr>\n",
       "    <tr>\n",
       "      <th>min</th>\n",
       "      <td>0.00</td>\n",
       "      <td>0.00</td>\n",
       "      <td>0.00</td>\n",
       "      <td>0.00</td>\n",
       "    </tr>\n",
       "    <tr>\n",
       "      <th>25%</th>\n",
       "      <td>4728.14</td>\n",
       "      <td>124041.00</td>\n",
       "      <td>160.00</td>\n",
       "      <td>25.00</td>\n",
       "    </tr>\n",
       "    <tr>\n",
       "      <th>50%</th>\n",
       "      <td>16768.52</td>\n",
       "      <td>164247.00</td>\n",
       "      <td>457.50</td>\n",
       "      <td>29.00</td>\n",
       "    </tr>\n",
       "    <tr>\n",
       "      <th>75%</th>\n",
       "      <td>57428.85</td>\n",
       "      <td>200022.00</td>\n",
       "      <td>1200.00</td>\n",
       "      <td>36.00</td>\n",
       "    </tr>\n",
       "    <tr>\n",
       "      <th>max</th>\n",
       "      <td>115035495.10</td>\n",
       "      <td>235959.00</td>\n",
       "      <td>1560034.99</td>\n",
       "      <td>217.00</td>\n",
       "    </tr>\n",
       "  </tbody>\n",
       "</table>\n",
       "</div>"
      ],
      "text/plain": [
       "       CustAccountBalance  TransactionTime  TransactionAmount (INR)        Age\n",
       "count          1041614.00       1041614.00               1041614.00 1041614.00\n",
       "mean            114998.61        157122.12                  1566.10      41.11\n",
       "std             846760.94         51263.52                  6561.46      42.90\n",
       "min                  0.00             0.00                     0.00       0.00\n",
       "25%               4728.14        124041.00                   160.00      25.00\n",
       "50%              16768.52        164247.00                   457.50      29.00\n",
       "75%              57428.85        200022.00                  1200.00      36.00\n",
       "max          115035495.10        235959.00               1560034.99     217.00"
      ]
     },
     "execution_count": 90,
     "metadata": {},
     "output_type": "execute_result"
    }
   ],
   "source": [
    "data.describe() "
   ]
  },
  {
   "cell_type": "markdown",
   "metadata": {},
   "source": [
    "Let's analyze transaction patterns and trends within the dataset."
   ]
  },
  {
   "cell_type": "markdown",
   "metadata": {},
   "source": [
    "Let's explore whether customer accountBalance or the day of the week has a significant impact on transaction frequency."
   ]
  },
  {
   "cell_type": "code",
   "execution_count": 91,
   "metadata": {},
   "outputs": [
    {
     "data": {
      "text/plain": [
       "0.056656464684361266"
      ]
     },
     "execution_count": 91,
     "metadata": {},
     "output_type": "execute_result"
    }
   ],
   "source": [
    "# Fetching the account balance of each customer\n",
    "account_bal_data = data.groupby('CustomerID')['CustAccountBalance'].sum().reset_index(name='total')\n",
    "\n",
    "# Fetching the number of transactions made by each customer \n",
    "transaction_count = data.groupby('CustomerID')['TransactionID'].count().reset_index(name='total')\n",
    "\n",
    "# Calculating the correlation coefficient between CustAccountBalance and number of transactions\n",
    "corr_coef = transaction_count['total'].corr(account_bal_data['total'])\n",
    "corr_coef"
   ]
  },
  {
   "cell_type": "markdown",
   "metadata": {},
   "source": [
    "Based on the correlation coefficient, we can conclude that there is a very weak positive correlation.The correlation is so weak that it doesn't provide meaningful predictive power, and the variations in transaction frequency are not significantly influenced by variations in account balances."
   ]
  },
  {
   "cell_type": "markdown",
   "metadata": {},
   "source": [
    "Let's explore trend in days"
   ]
  },
  {
   "cell_type": "code",
   "execution_count": 92,
   "metadata": {},
   "outputs": [
    {
     "data": {
      "text/plain": [
       "DayOfWeek\n",
       "Sunday       170795\n",
       "Monday       154424\n",
       "Thursday     150333\n",
       "Saturday     147611\n",
       "Tuesday      144667\n",
       "Wednesday    141186\n",
       "Friday       132598\n",
       "Name: count, dtype: int64"
      ]
     },
     "execution_count": 92,
     "metadata": {},
     "output_type": "execute_result"
    }
   ],
   "source": [
    "data['TransactionDate'] = pd.to_datetime(data['TransactionDate'])\n",
    "\n",
    "# Extracting the day of the week and create a new column 'DayOfWeek'\n",
    "data['DayOfWeek'] = data['TransactionDate'].dt.day_name()\n",
    "\n",
    "# Fetching the transactions count based on the day of week\n",
    "day_transaction_count = data['DayOfWeek'].value_counts()\n",
    "day_transaction_count"
   ]
  },
  {
   "cell_type": "code",
   "execution_count": 93,
   "metadata": {},
   "outputs": [
    {
     "data": {
      "image/png": "[encoded data removed]",
      "text/plain": [
       "<Figure size 640x480 with 1 Axes>"
      ]
     },
     "metadata": {},
     "output_type": "display_data"
    }
   ],
   "source": [
    "# Plotting the percentage of day wise transactions \n",
    "import matplotlib.pyplot as plt\n",
    "\n",
    "values = day_transaction_count.values\n",
    "labels = day_transaction_count.index\n",
    "explode= [0.1,0,0,0,0,0,0]\n",
    "\n",
    "plt.pie(values, labels= labels, autopct= '%1.2f%%',shadow= True, explode= explode, startangle= 20,\n",
    "        wedgeprops={\"edgecolor\":\"k\",'linewidth': 0.5,'linestyle': '-'})\n",
    "plt.show()\n"
   ]
  },
  {
   "cell_type": "markdown",
   "metadata": {},
   "source": [
    "It doesn't appear that there is a significant trend in transaction data for each day of the week. While Sunday has the highest number of transactions with a slight edge, the differences between the transaction counts for each day of the week are not substantial."
   ]
  },
  {
   "cell_type": "markdown",
   "metadata": {},
   "source": [
    "Let's generate new segment features in the dataset based on the number of months, transaction frequency, and total transaction amount, and then analyze the relationships and their impacts."
   ]
  },
  {
   "cell_type": "code",
   "execution_count": 94,
   "metadata": {},
   "outputs": [
    {
     "data": {
      "text/plain": [
       "array([ 8, 10,  9])"
      ]
     },
     "execution_count": 94,
     "metadata": {},
     "output_type": "execute_result"
    }
   ],
   "source": [
    "# calculating the data is of which period\n",
    "unique_months = data['TransactionDate'].dt.month.unique()\n",
    "unique_months"
   ]
  },
  {
   "cell_type": "markdown",
   "metadata": {},
   "source": [
    "The data consists of transactions for months august,september and october."
   ]
  },
  {
   "cell_type": "markdown",
   "metadata": {},
   "source": [
    "Creating a feature in the dataset, which shows that customer made transactions in all the three months, two months or once."
   ]
  },
  {
   "cell_type": "code",
   "execution_count": 95,
   "metadata": {},
   "outputs": [],
   "source": [
    "# Extracting the month column\n",
    "data['TransactionMonth'] = data['TransactionDate'].dt.month"
   ]
  },
  {
   "cell_type": "code",
   "execution_count": 96,
   "metadata": {},
   "outputs": [
    {
     "data": {
      "text/html": [
       "<div>\n",
       "<style scoped>\n",
       "    .dataframe tbody tr th:only-of-type {\n",
       "        vertical-align: middle;\n",
       "    }\n",
       "\n",
       "    .dataframe tbody tr th {\n",
       "        vertical-align: top;\n",
       "    }\n",
       "\n",
       "    .dataframe thead th {\n",
       "        text-align: right;\n",
       "    }\n",
       "</style>\n",
       "<table border=\"1\" class=\"dataframe\">\n",
       "  <thead>\n",
       "    <tr style=\"text-align: right;\">\n",
       "      <th></th>\n",
       "      <th>CustomerID</th>\n",
       "      <th>MonthCount</th>\n",
       "    </tr>\n",
       "  </thead>\n",
       "  <tbody>\n",
       "    <tr>\n",
       "      <th>0</th>\n",
       "      <td>C1010011</td>\n",
       "      <td>2</td>\n",
       "    </tr>\n",
       "    <tr>\n",
       "      <th>1</th>\n",
       "      <td>C1010012</td>\n",
       "      <td>1</td>\n",
       "    </tr>\n",
       "    <tr>\n",
       "      <th>2</th>\n",
       "      <td>C1010014</td>\n",
       "      <td>1</td>\n",
       "    </tr>\n",
       "    <tr>\n",
       "      <th>3</th>\n",
       "      <td>C1010018</td>\n",
       "      <td>1</td>\n",
       "    </tr>\n",
       "    <tr>\n",
       "      <th>4</th>\n",
       "      <td>C1010024</td>\n",
       "      <td>1</td>\n",
       "    </tr>\n",
       "    <tr>\n",
       "      <th>...</th>\n",
       "      <td>...</td>\n",
       "      <td>...</td>\n",
       "    </tr>\n",
       "    <tr>\n",
       "      <th>879353</th>\n",
       "      <td>C9099836</td>\n",
       "      <td>1</td>\n",
       "    </tr>\n",
       "    <tr>\n",
       "      <th>879354</th>\n",
       "      <td>C9099877</td>\n",
       "      <td>1</td>\n",
       "    </tr>\n",
       "    <tr>\n",
       "      <th>879355</th>\n",
       "      <td>C9099919</td>\n",
       "      <td>1</td>\n",
       "    </tr>\n",
       "    <tr>\n",
       "      <th>879356</th>\n",
       "      <td>C9099941</td>\n",
       "      <td>1</td>\n",
       "    </tr>\n",
       "    <tr>\n",
       "      <th>879357</th>\n",
       "      <td>C9099956</td>\n",
       "      <td>1</td>\n",
       "    </tr>\n",
       "  </tbody>\n",
       "</table>\n",
       "<p>879358 rows × 2 columns</p>\n",
       "</div>"
      ],
      "text/plain": [
       "       CustomerID  MonthCount\n",
       "0        C1010011           2\n",
       "1        C1010012           1\n",
       "2        C1010014           1\n",
       "3        C1010018           1\n",
       "4        C1010024           1\n",
       "...           ...         ...\n",
       "879353   C9099836           1\n",
       "879354   C9099877           1\n",
       "879355   C9099919           1\n",
       "879356   C9099941           1\n",
       "879357   C9099956           1\n",
       "\n",
       "[879358 rows x 2 columns]"
      ]
     },
     "execution_count": 96,
     "metadata": {},
     "output_type": "execute_result"
    }
   ],
   "source": [
    "# verifying the calculation of number of months\n",
    "data.groupby('CustomerID')['TransactionMonth'].nunique().reset_index(name='MonthCount')"
   ]
  },
  {
   "cell_type": "code",
   "execution_count": 97,
   "metadata": {},
   "outputs": [
    {
     "data": {
      "text/html": [
       "<div>\n",
       "<style scoped>\n",
       "    .dataframe tbody tr th:only-of-type {\n",
       "        vertical-align: middle;\n",
       "    }\n",
       "\n",
       "    .dataframe tbody tr th {\n",
       "        vertical-align: top;\n",
       "    }\n",
       "\n",
       "    .dataframe thead th {\n",
       "        text-align: right;\n",
       "    }\n",
       "</style>\n",
       "<table border=\"1\" class=\"dataframe\">\n",
       "  <thead>\n",
       "    <tr style=\"text-align: right;\">\n",
       "      <th></th>\n",
       "      <th>TransactionID</th>\n",
       "      <th>CustomerID</th>\n",
       "      <th>CustomerDOB</th>\n",
       "      <th>CustGender</th>\n",
       "      <th>CustLocation</th>\n",
       "      <th>CustAccountBalance</th>\n",
       "      <th>TransactionDate</th>\n",
       "      <th>TransactionTime</th>\n",
       "      <th>TransactionAmount (INR)</th>\n",
       "      <th>Age</th>\n",
       "      <th>AgeGroup</th>\n",
       "      <th>DayOfWeek</th>\n",
       "      <th>TransactionMonth</th>\n",
       "    </tr>\n",
       "  </thead>\n",
       "  <tbody>\n",
       "    <tr>\n",
       "      <th>33469</th>\n",
       "      <td>T33671</td>\n",
       "      <td>C1010011</td>\n",
       "      <td>1992-08-19</td>\n",
       "      <td>F</td>\n",
       "      <td>NOIDA</td>\n",
       "      <td>32500.73</td>\n",
       "      <td>2016-09-26</td>\n",
       "      <td>123813</td>\n",
       "      <td>4750.00</td>\n",
       "      <td>24</td>\n",
       "      <td>Middle-Age</td>\n",
       "      <td>Monday</td>\n",
       "      <td>9</td>\n",
       "    </tr>\n",
       "    <tr>\n",
       "      <th>172258</th>\n",
       "      <td>T173509</td>\n",
       "      <td>C1010011</td>\n",
       "      <td>1983-08-05</td>\n",
       "      <td>M</td>\n",
       "      <td>NEW DELHI</td>\n",
       "      <td>120180.54</td>\n",
       "      <td>2016-08-09</td>\n",
       "      <td>11229</td>\n",
       "      <td>356.00</td>\n",
       "      <td>33</td>\n",
       "      <td>Middle-Age</td>\n",
       "      <td>Tuesday</td>\n",
       "      <td>8</td>\n",
       "    </tr>\n",
       "  </tbody>\n",
       "</table>\n",
       "</div>"
      ],
      "text/plain": [
       "       TransactionID CustomerID CustomerDOB CustGender CustLocation  \\\n",
       "33469         T33671   C1010011  1992-08-19          F        NOIDA   \n",
       "172258       T173509   C1010011  1983-08-05          M    NEW DELHI   \n",
       "\n",
       "        CustAccountBalance TransactionDate  TransactionTime  \\\n",
       "33469             32500.73      2016-09-26           123813   \n",
       "172258           120180.54      2016-08-09            11229   \n",
       "\n",
       "        TransactionAmount (INR)  Age    AgeGroup DayOfWeek  TransactionMonth  \n",
       "33469                   4750.00   24  Middle-Age    Monday                 9  \n",
       "172258                   356.00   33  Middle-Age   Tuesday                 8  "
      ]
     },
     "execution_count": 97,
     "metadata": {},
     "output_type": "execute_result"
    }
   ],
   "source": [
    "# checking that calculation done correctly \n",
    "data[data['CustomerID']=='C1010011']"
   ]
  },
  {
   "cell_type": "markdown",
   "metadata": {},
   "source": [
    "the customerid - C1010011 made transactions in both august and september. so, the month count is 2."
   ]
  },
  {
   "cell_type": "code",
   "execution_count": 98,
   "metadata": {},
   "outputs": [
    {
     "data": {
      "text/html": [
       "<div>\n",
       "<style scoped>\n",
       "    .dataframe tbody tr th:only-of-type {\n",
       "        vertical-align: middle;\n",
       "    }\n",
       "\n",
       "    .dataframe tbody tr th {\n",
       "        vertical-align: top;\n",
       "    }\n",
       "\n",
       "    .dataframe thead th {\n",
       "        text-align: right;\n",
       "    }\n",
       "</style>\n",
       "<table border=\"1\" class=\"dataframe\">\n",
       "  <thead>\n",
       "    <tr style=\"text-align: right;\">\n",
       "      <th></th>\n",
       "      <th>TransactionID</th>\n",
       "      <th>CustomerID</th>\n",
       "      <th>CustomerDOB</th>\n",
       "      <th>CustGender</th>\n",
       "      <th>CustLocation</th>\n",
       "      <th>CustAccountBalance</th>\n",
       "      <th>TransactionDate</th>\n",
       "      <th>TransactionTime</th>\n",
       "      <th>TransactionAmount (INR)</th>\n",
       "      <th>Age</th>\n",
       "      <th>AgeGroup</th>\n",
       "      <th>DayOfWeek</th>\n",
       "      <th>TransactionMonth</th>\n",
       "    </tr>\n",
       "  </thead>\n",
       "  <tbody>\n",
       "    <tr>\n",
       "      <th>0</th>\n",
       "      <td>T1</td>\n",
       "      <td>C5841053</td>\n",
       "      <td>1994-01-10</td>\n",
       "      <td>F</td>\n",
       "      <td>JAMSHEDPUR</td>\n",
       "      <td>17819.05</td>\n",
       "      <td>2016-08-02</td>\n",
       "      <td>143207</td>\n",
       "      <td>25.00</td>\n",
       "      <td>22</td>\n",
       "      <td>Middle-Age</td>\n",
       "      <td>Tuesday</td>\n",
       "      <td>8</td>\n",
       "    </tr>\n",
       "    <tr>\n",
       "      <th>1</th>\n",
       "      <td>T2</td>\n",
       "      <td>C2142763</td>\n",
       "      <td>1957-04-04</td>\n",
       "      <td>M</td>\n",
       "      <td>JHAJJAR</td>\n",
       "      <td>2270.69</td>\n",
       "      <td>2016-08-02</td>\n",
       "      <td>141858</td>\n",
       "      <td>27999.00</td>\n",
       "      <td>59</td>\n",
       "      <td>Elderly</td>\n",
       "      <td>Tuesday</td>\n",
       "      <td>8</td>\n",
       "    </tr>\n",
       "  </tbody>\n",
       "</table>\n",
       "</div>"
      ],
      "text/plain": [
       "  TransactionID CustomerID CustomerDOB CustGender CustLocation  \\\n",
       "0            T1   C5841053  1994-01-10          F   JAMSHEDPUR   \n",
       "1            T2   C2142763  1957-04-04          M      JHAJJAR   \n",
       "\n",
       "   CustAccountBalance TransactionDate  TransactionTime  \\\n",
       "0            17819.05      2016-08-02           143207   \n",
       "1             2270.69      2016-08-02           141858   \n",
       "\n",
       "   TransactionAmount (INR)  Age    AgeGroup DayOfWeek  TransactionMonth  \n",
       "0                    25.00   22  Middle-Age   Tuesday                 8  \n",
       "1                 27999.00   59     Elderly   Tuesday                 8  "
      ]
     },
     "execution_count": 98,
     "metadata": {},
     "output_type": "execute_result"
    }
   ],
   "source": [
    "data.head(2)"
   ]
  },
  {
   "cell_type": "code",
   "execution_count": 99,
   "metadata": {},
   "outputs": [
    {
     "data": {
      "text/html": [
       "<div>\n",
       "<style scoped>\n",
       "    .dataframe tbody tr th:only-of-type {\n",
       "        vertical-align: middle;\n",
       "    }\n",
       "\n",
       "    .dataframe tbody tr th {\n",
       "        vertical-align: top;\n",
       "    }\n",
       "\n",
       "    .dataframe thead th {\n",
       "        text-align: right;\n",
       "    }\n",
       "</style>\n",
       "<table border=\"1\" class=\"dataframe\">\n",
       "  <thead>\n",
       "    <tr style=\"text-align: right;\">\n",
       "      <th></th>\n",
       "      <th>CustomerID</th>\n",
       "      <th>MonthCount</th>\n",
       "      <th>monthFrequencySegment</th>\n",
       "    </tr>\n",
       "  </thead>\n",
       "  <tbody>\n",
       "    <tr>\n",
       "      <th>0</th>\n",
       "      <td>C1010011</td>\n",
       "      <td>2</td>\n",
       "      <td>Casual</td>\n",
       "    </tr>\n",
       "    <tr>\n",
       "      <th>1</th>\n",
       "      <td>C1010012</td>\n",
       "      <td>1</td>\n",
       "      <td>Occasional</td>\n",
       "    </tr>\n",
       "    <tr>\n",
       "      <th>2</th>\n",
       "      <td>C1010014</td>\n",
       "      <td>1</td>\n",
       "      <td>Occasional</td>\n",
       "    </tr>\n",
       "    <tr>\n",
       "      <th>3</th>\n",
       "      <td>C1010018</td>\n",
       "      <td>1</td>\n",
       "      <td>Occasional</td>\n",
       "    </tr>\n",
       "    <tr>\n",
       "      <th>4</th>\n",
       "      <td>C1010024</td>\n",
       "      <td>1</td>\n",
       "      <td>Occasional</td>\n",
       "    </tr>\n",
       "    <tr>\n",
       "      <th>...</th>\n",
       "      <td>...</td>\n",
       "      <td>...</td>\n",
       "      <td>...</td>\n",
       "    </tr>\n",
       "    <tr>\n",
       "      <th>879353</th>\n",
       "      <td>C9099836</td>\n",
       "      <td>1</td>\n",
       "      <td>Occasional</td>\n",
       "    </tr>\n",
       "    <tr>\n",
       "      <th>879354</th>\n",
       "      <td>C9099877</td>\n",
       "      <td>1</td>\n",
       "      <td>Occasional</td>\n",
       "    </tr>\n",
       "    <tr>\n",
       "      <th>879355</th>\n",
       "      <td>C9099919</td>\n",
       "      <td>1</td>\n",
       "      <td>Occasional</td>\n",
       "    </tr>\n",
       "    <tr>\n",
       "      <th>879356</th>\n",
       "      <td>C9099941</td>\n",
       "      <td>1</td>\n",
       "      <td>Occasional</td>\n",
       "    </tr>\n",
       "    <tr>\n",
       "      <th>879357</th>\n",
       "      <td>C9099956</td>\n",
       "      <td>1</td>\n",
       "      <td>Occasional</td>\n",
       "    </tr>\n",
       "  </tbody>\n",
       "</table>\n",
       "<p>879358 rows × 3 columns</p>\n",
       "</div>"
      ],
      "text/plain": [
       "       CustomerID  MonthCount monthFrequencySegment\n",
       "0        C1010011           2                Casual\n",
       "1        C1010012           1            Occasional\n",
       "2        C1010014           1            Occasional\n",
       "3        C1010018           1            Occasional\n",
       "4        C1010024           1            Occasional\n",
       "...           ...         ...                   ...\n",
       "879353   C9099836           1            Occasional\n",
       "879354   C9099877           1            Occasional\n",
       "879355   C9099919           1            Occasional\n",
       "879356   C9099941           1            Occasional\n",
       "879357   C9099956           1            Occasional\n",
       "\n",
       "[879358 rows x 3 columns]"
      ]
     },
     "execution_count": 99,
     "metadata": {},
     "output_type": "execute_result"
    }
   ],
   "source": [
    "# Group by 'CustomerID' and calculate the number of unique months\n",
    "customer_month_counts = data.groupby('CustomerID')['TransactionMonth'].nunique().reset_index(name='MonthCount')\n",
    "\n",
    "# Create a dictionary to map month counts to segments\n",
    "segment_mapping = {\n",
    "    3: 'Regular',\n",
    "    2: 'Casual',\n",
    "    1: 'Occasional'\n",
    "}\n",
    "\n",
    "# Map the month counts to segments and assign the result to 'Segment1' column\n",
    "customer_month_counts['monthFrequencySegment'] = customer_month_counts['MonthCount'].map(segment_mapping)\n",
    "customer_month_counts"
   ]
  },
  {
   "cell_type": "markdown",
   "metadata": {},
   "source": [
    "to validate, segmentation is done correctly take random customerID from each segment and check their transaction months"
   ]
  },
  {
   "cell_type": "code",
   "execution_count": 100,
   "metadata": {},
   "outputs": [
    {
     "data": {
      "text/html": [
       "<div>\n",
       "<style scoped>\n",
       "    .dataframe tbody tr th:only-of-type {\n",
       "        vertical-align: middle;\n",
       "    }\n",
       "\n",
       "    .dataframe tbody tr th {\n",
       "        vertical-align: top;\n",
       "    }\n",
       "\n",
       "    .dataframe thead th {\n",
       "        text-align: right;\n",
       "    }\n",
       "</style>\n",
       "<table border=\"1\" class=\"dataframe\">\n",
       "  <thead>\n",
       "    <tr style=\"text-align: right;\">\n",
       "      <th></th>\n",
       "      <th>TransactionID</th>\n",
       "      <th>CustomerID</th>\n",
       "      <th>CustomerDOB</th>\n",
       "      <th>CustGender</th>\n",
       "      <th>CustLocation</th>\n",
       "      <th>CustAccountBalance</th>\n",
       "      <th>TransactionDate</th>\n",
       "      <th>TransactionTime</th>\n",
       "      <th>TransactionAmount (INR)</th>\n",
       "      <th>Age</th>\n",
       "      <th>AgeGroup</th>\n",
       "      <th>DayOfWeek</th>\n",
       "      <th>TransactionMonth</th>\n",
       "    </tr>\n",
       "  </thead>\n",
       "  <tbody>\n",
       "    <tr>\n",
       "      <th>2</th>\n",
       "      <td>T3</td>\n",
       "      <td>C4417068</td>\n",
       "      <td>1996-11-26</td>\n",
       "      <td>F</td>\n",
       "      <td>MUMBAI</td>\n",
       "      <td>17874.44</td>\n",
       "      <td>2016-08-02</td>\n",
       "      <td>142712</td>\n",
       "      <td>459.00</td>\n",
       "      <td>20</td>\n",
       "      <td>Young</td>\n",
       "      <td>Tuesday</td>\n",
       "      <td>8</td>\n",
       "    </tr>\n",
       "    <tr>\n",
       "      <th>40</th>\n",
       "      <td>T42</td>\n",
       "      <td>C7923455</td>\n",
       "      <td>1992-10-06</td>\n",
       "      <td>M</td>\n",
       "      <td>ANDHERI (EAST) MUMBAI</td>\n",
       "      <td>5810.82</td>\n",
       "      <td>2016-08-03</td>\n",
       "      <td>221111</td>\n",
       "      <td>12.00</td>\n",
       "      <td>24</td>\n",
       "      <td>Middle-Age</td>\n",
       "      <td>Wednesday</td>\n",
       "      <td>8</td>\n",
       "    </tr>\n",
       "    <tr>\n",
       "      <th>347</th>\n",
       "      <td>T351</td>\n",
       "      <td>C7818719</td>\n",
       "      <td>1992-03-03</td>\n",
       "      <td>M</td>\n",
       "      <td>BADDI</td>\n",
       "      <td>18381.01</td>\n",
       "      <td>2016-10-21</td>\n",
       "      <td>193012</td>\n",
       "      <td>100.00</td>\n",
       "      <td>24</td>\n",
       "      <td>Middle-Age</td>\n",
       "      <td>Friday</td>\n",
       "      <td>10</td>\n",
       "    </tr>\n",
       "    <tr>\n",
       "      <th>508301</th>\n",
       "      <td>T511921</td>\n",
       "      <td>C7818719</td>\n",
       "      <td>1978-06-15</td>\n",
       "      <td>M</td>\n",
       "      <td>MUMBAI</td>\n",
       "      <td>2685.81</td>\n",
       "      <td>2016-08-19</td>\n",
       "      <td>170041</td>\n",
       "      <td>800.00</td>\n",
       "      <td>38</td>\n",
       "      <td>Middle-Age</td>\n",
       "      <td>Friday</td>\n",
       "      <td>8</td>\n",
       "    </tr>\n",
       "    <tr>\n",
       "      <th>787685</th>\n",
       "      <td>T793207</td>\n",
       "      <td>C7923455</td>\n",
       "      <td>1992-03-25</td>\n",
       "      <td>M</td>\n",
       "      <td>MOHALI</td>\n",
       "      <td>6786.39</td>\n",
       "      <td>2016-09-05</td>\n",
       "      <td>104227</td>\n",
       "      <td>16.00</td>\n",
       "      <td>24</td>\n",
       "      <td>Middle-Age</td>\n",
       "      <td>Monday</td>\n",
       "      <td>9</td>\n",
       "    </tr>\n",
       "    <tr>\n",
       "      <th>881847</th>\n",
       "      <td>T887870</td>\n",
       "      <td>C7818719</td>\n",
       "      <td>1993-06-28</td>\n",
       "      <td>M</td>\n",
       "      <td>DOMBIVALI WEST VISHNUNAGAR THANE</td>\n",
       "      <td>71767.91</td>\n",
       "      <td>2016-09-07</td>\n",
       "      <td>173717</td>\n",
       "      <td>33.00</td>\n",
       "      <td>23</td>\n",
       "      <td>Middle-Age</td>\n",
       "      <td>Wednesday</td>\n",
       "      <td>9</td>\n",
       "    </tr>\n",
       "  </tbody>\n",
       "</table>\n",
       "</div>"
      ],
      "text/plain": [
       "       TransactionID CustomerID CustomerDOB CustGender  \\\n",
       "2                 T3   C4417068  1996-11-26          F   \n",
       "40               T42   C7923455  1992-10-06          M   \n",
       "347             T351   C7818719  1992-03-03          M   \n",
       "508301       T511921   C7818719  1978-06-15          M   \n",
       "787685       T793207   C7923455  1992-03-25          M   \n",
       "881847       T887870   C7818719  1993-06-28          M   \n",
       "\n",
       "                            CustLocation  CustAccountBalance TransactionDate  \\\n",
       "2                                 MUMBAI            17874.44      2016-08-02   \n",
       "40                 ANDHERI (EAST) MUMBAI             5810.82      2016-08-03   \n",
       "347                                BADDI            18381.01      2016-10-21   \n",
       "508301                            MUMBAI             2685.81      2016-08-19   \n",
       "787685                            MOHALI             6786.39      2016-09-05   \n",
       "881847  DOMBIVALI WEST VISHNUNAGAR THANE            71767.91      2016-09-07   \n",
       "\n",
       "        TransactionTime  TransactionAmount (INR)  Age    AgeGroup  DayOfWeek  \\\n",
       "2                142712                   459.00   20       Young    Tuesday   \n",
       "40               221111                    12.00   24  Middle-Age  Wednesday   \n",
       "347              193012                   100.00   24  Middle-Age     Friday   \n",
       "508301           170041                   800.00   38  Middle-Age     Friday   \n",
       "787685           104227                    16.00   24  Middle-Age     Monday   \n",
       "881847           173717                    33.00   23  Middle-Age  Wednesday   \n",
       "\n",
       "        TransactionMonth  \n",
       "2                      8  \n",
       "40                     8  \n",
       "347                   10  \n",
       "508301                 8  \n",
       "787685                 9  \n",
       "881847                 9  "
      ]
     },
     "execution_count": 100,
     "metadata": {},
     "output_type": "execute_result"
    }
   ],
   "source": [
    "# Regular - C7818719, Casual - C7923455, Occasional - C4417068\n",
    "data[data['CustomerID'].isin(['C7818719','C7923455','C4417068'])]"
   ]
  },
  {
   "cell_type": "markdown",
   "metadata": {},
   "source": [
    "Month segementation is done correctly."
   ]
  },
  {
   "cell_type": "code",
   "execution_count": 101,
   "metadata": {},
   "outputs": [
    {
     "data": {
      "text/plain": [
       "monthFrequencySegment\n",
       "Occasional    808166\n",
       "Casual         71086\n",
       "Regular          106\n",
       "Name: count, dtype: int64"
      ]
     },
     "execution_count": 101,
     "metadata": {},
     "output_type": "execute_result"
    }
   ],
   "source": [
    "# count based on the month frequency\n",
    "customer_month_counts['monthFrequencySegment'].value_counts()"
   ]
  },
  {
   "cell_type": "markdown",
   "metadata": {},
   "source": [
    "It appears that there is a higher number of customers who make transactions within a single month."
   ]
  },
  {
   "cell_type": "markdown",
   "metadata": {},
   "source": [
    "let's create two more segments based on number of transactions and total transaction amount of a customer."
   ]
  },
  {
   "cell_type": "code",
   "execution_count": 102,
   "metadata": {},
   "outputs": [],
   "source": [
    "# created a dataframe to store data for new features\n",
    "transaction_data = pd.DataFrame()\n",
    "\n",
    "# calculating the number of transactions customer made\n",
    "transaction_data['transactionFrequency'] = data.groupby('CustomerID')['TransactionID'].count()\n",
    "\n",
    "# calculating the total of transactions amount \n",
    "transaction_data['totalTransactionAmount'] = data.groupby('CustomerID')['TransactionAmount (INR)'].sum()\n",
    "transaction_data.reset_index(inplace=True)"
   ]
  },
  {
   "cell_type": "code",
   "execution_count": 103,
   "metadata": {},
   "outputs": [
    {
     "data": {
      "text/html": [
       "<div>\n",
       "<style scoped>\n",
       "    .dataframe tbody tr th:only-of-type {\n",
       "        vertical-align: middle;\n",
       "    }\n",
       "\n",
       "    .dataframe tbody tr th {\n",
       "        vertical-align: top;\n",
       "    }\n",
       "\n",
       "    .dataframe thead th {\n",
       "        text-align: right;\n",
       "    }\n",
       "</style>\n",
       "<table border=\"1\" class=\"dataframe\">\n",
       "  <thead>\n",
       "    <tr style=\"text-align: right;\">\n",
       "      <th></th>\n",
       "      <th>CustomerID</th>\n",
       "      <th>transactionFrequency</th>\n",
       "      <th>totalTransactionAmount</th>\n",
       "    </tr>\n",
       "  </thead>\n",
       "  <tbody>\n",
       "    <tr>\n",
       "      <th>0</th>\n",
       "      <td>C1010011</td>\n",
       "      <td>2</td>\n",
       "      <td>5106.00</td>\n",
       "    </tr>\n",
       "    <tr>\n",
       "      <th>1</th>\n",
       "      <td>C1010012</td>\n",
       "      <td>1</td>\n",
       "      <td>1499.00</td>\n",
       "    </tr>\n",
       "    <tr>\n",
       "      <th>2</th>\n",
       "      <td>C1010014</td>\n",
       "      <td>2</td>\n",
       "      <td>1455.00</td>\n",
       "    </tr>\n",
       "    <tr>\n",
       "      <th>3</th>\n",
       "      <td>C1010018</td>\n",
       "      <td>1</td>\n",
       "      <td>30.00</td>\n",
       "    </tr>\n",
       "    <tr>\n",
       "      <th>4</th>\n",
       "      <td>C1010024</td>\n",
       "      <td>1</td>\n",
       "      <td>5000.00</td>\n",
       "    </tr>\n",
       "    <tr>\n",
       "      <th>...</th>\n",
       "      <td>...</td>\n",
       "      <td>...</td>\n",
       "      <td>...</td>\n",
       "    </tr>\n",
       "    <tr>\n",
       "      <th>879353</th>\n",
       "      <td>C9099836</td>\n",
       "      <td>1</td>\n",
       "      <td>691.00</td>\n",
       "    </tr>\n",
       "    <tr>\n",
       "      <th>879354</th>\n",
       "      <td>C9099877</td>\n",
       "      <td>1</td>\n",
       "      <td>222.00</td>\n",
       "    </tr>\n",
       "    <tr>\n",
       "      <th>879355</th>\n",
       "      <td>C9099919</td>\n",
       "      <td>1</td>\n",
       "      <td>126.00</td>\n",
       "    </tr>\n",
       "    <tr>\n",
       "      <th>879356</th>\n",
       "      <td>C9099941</td>\n",
       "      <td>1</td>\n",
       "      <td>50.00</td>\n",
       "    </tr>\n",
       "    <tr>\n",
       "      <th>879357</th>\n",
       "      <td>C9099956</td>\n",
       "      <td>1</td>\n",
       "      <td>855.00</td>\n",
       "    </tr>\n",
       "  </tbody>\n",
       "</table>\n",
       "<p>879358 rows × 3 columns</p>\n",
       "</div>"
      ],
      "text/plain": [
       "       CustomerID  transactionFrequency  totalTransactionAmount\n",
       "0        C1010011                     2                 5106.00\n",
       "1        C1010012                     1                 1499.00\n",
       "2        C1010014                     2                 1455.00\n",
       "3        C1010018                     1                   30.00\n",
       "4        C1010024                     1                 5000.00\n",
       "...           ...                   ...                     ...\n",
       "879353   C9099836                     1                  691.00\n",
       "879354   C9099877                     1                  222.00\n",
       "879355   C9099919                     1                  126.00\n",
       "879356   C9099941                     1                   50.00\n",
       "879357   C9099956                     1                  855.00\n",
       "\n",
       "[879358 rows x 3 columns]"
      ]
     },
     "execution_count": 103,
     "metadata": {},
     "output_type": "execute_result"
    }
   ],
   "source": [
    "transaction_data"
   ]
  },
  {
   "cell_type": "code",
   "execution_count": 104,
   "metadata": {},
   "outputs": [
    {
     "data": {
      "text/html": [
       "<div>\n",
       "<style scoped>\n",
       "    .dataframe tbody tr th:only-of-type {\n",
       "        vertical-align: middle;\n",
       "    }\n",
       "\n",
       "    .dataframe tbody tr th {\n",
       "        vertical-align: top;\n",
       "    }\n",
       "\n",
       "    .dataframe thead th {\n",
       "        text-align: right;\n",
       "    }\n",
       "</style>\n",
       "<table border=\"1\" class=\"dataframe\">\n",
       "  <thead>\n",
       "    <tr style=\"text-align: right;\">\n",
       "      <th></th>\n",
       "      <th>TransactionID</th>\n",
       "      <th>CustomerID</th>\n",
       "      <th>CustomerDOB</th>\n",
       "      <th>CustGender</th>\n",
       "      <th>CustLocation</th>\n",
       "      <th>CustAccountBalance</th>\n",
       "      <th>TransactionDate</th>\n",
       "      <th>TransactionTime</th>\n",
       "      <th>TransactionAmount (INR)</th>\n",
       "      <th>Age</th>\n",
       "      <th>AgeGroup</th>\n",
       "      <th>DayOfWeek</th>\n",
       "      <th>TransactionMonth</th>\n",
       "    </tr>\n",
       "  </thead>\n",
       "  <tbody>\n",
       "    <tr>\n",
       "      <th>33469</th>\n",
       "      <td>T33671</td>\n",
       "      <td>C1010011</td>\n",
       "      <td>1992-08-19</td>\n",
       "      <td>F</td>\n",
       "      <td>NOIDA</td>\n",
       "      <td>32500.73</td>\n",
       "      <td>2016-09-26</td>\n",
       "      <td>123813</td>\n",
       "      <td>4750.00</td>\n",
       "      <td>24</td>\n",
       "      <td>Middle-Age</td>\n",
       "      <td>Monday</td>\n",
       "      <td>9</td>\n",
       "    </tr>\n",
       "    <tr>\n",
       "      <th>172258</th>\n",
       "      <td>T173509</td>\n",
       "      <td>C1010011</td>\n",
       "      <td>1983-08-05</td>\n",
       "      <td>M</td>\n",
       "      <td>NEW DELHI</td>\n",
       "      <td>120180.54</td>\n",
       "      <td>2016-08-09</td>\n",
       "      <td>11229</td>\n",
       "      <td>356.00</td>\n",
       "      <td>33</td>\n",
       "      <td>Middle-Age</td>\n",
       "      <td>Tuesday</td>\n",
       "      <td>8</td>\n",
       "    </tr>\n",
       "  </tbody>\n",
       "</table>\n",
       "</div>"
      ],
      "text/plain": [
       "       TransactionID CustomerID CustomerDOB CustGender CustLocation  \\\n",
       "33469         T33671   C1010011  1992-08-19          F        NOIDA   \n",
       "172258       T173509   C1010011  1983-08-05          M    NEW DELHI   \n",
       "\n",
       "        CustAccountBalance TransactionDate  TransactionTime  \\\n",
       "33469             32500.73      2016-09-26           123813   \n",
       "172258           120180.54      2016-08-09            11229   \n",
       "\n",
       "        TransactionAmount (INR)  Age    AgeGroup DayOfWeek  TransactionMonth  \n",
       "33469                   4750.00   24  Middle-Age    Monday                 9  \n",
       "172258                   356.00   33  Middle-Age   Tuesday                 8  "
      ]
     },
     "execution_count": 104,
     "metadata": {},
     "output_type": "execute_result"
    }
   ],
   "source": [
    "# Validation\n",
    "data[data['CustomerID']=='C1010011']"
   ]
  },
  {
   "cell_type": "markdown",
   "metadata": {},
   "source": [
    "CustomerID - C1010011 has two transactions, so the transaction frequency is 2 and the totalTransactionAmount is 5106(4750+356)."
   ]
  },
  {
   "cell_type": "markdown",
   "metadata": {},
   "source": [
    "Let's create segments based on transactions."
   ]
  },
  {
   "cell_type": "code",
   "execution_count": 105,
   "metadata": {},
   "outputs": [
    {
     "data": {
      "text/plain": [
       "count   879358.00\n",
       "mean         1.18\n",
       "std          0.45\n",
       "min          1.00\n",
       "25%          1.00\n",
       "50%          1.00\n",
       "75%          1.00\n",
       "max          6.00\n",
       "Name: transactionFrequency, dtype: float64"
      ]
     },
     "execution_count": 105,
     "metadata": {},
     "output_type": "execute_result"
    }
   ],
   "source": [
    "transaction_data['transactionFrequency'].describe()"
   ]
  },
  {
   "cell_type": "code",
   "execution_count": 106,
   "metadata": {},
   "outputs": [
    {
     "data": {
      "text/plain": [
       "transactionFrequency\n",
       "1    737397\n",
       "2    123651\n",
       "3     16494\n",
       "4      1661\n",
       "5       141\n",
       "6        14\n",
       "Name: count, dtype: int64"
      ]
     },
     "execution_count": 106,
     "metadata": {},
     "output_type": "execute_result"
    }
   ],
   "source": [
    "transaction_data['transactionFrequency'].value_counts()"
   ]
  },
  {
   "cell_type": "markdown",
   "metadata": {},
   "source": [
    "Observing the right-skewed nature of the data, where a majority of customers have fewer transactions compared to a smaller group with multiple transactions, let's create segments for singleTransaction and multipleTransaction Frequency."
   ]
  },
  {
   "cell_type": "code",
   "execution_count": 107,
   "metadata": {},
   "outputs": [],
   "source": [
    "# Created a function for frequency segmentation\n",
    "def frequency_segmentation(transaction_count):\n",
    "    if transaction_count <= 1:\n",
    "        return 'SingleTransaction'\n",
    "    else:\n",
    "        return 'MultipleTransaction'\n",
    "\n",
    "# Assigning the segement values     \n",
    "transaction_data['transactionFrequencySegment'] = transaction_data['transactionFrequency'].apply(frequency_segmentation)"
   ]
  },
  {
   "cell_type": "code",
   "execution_count": 108,
   "metadata": {},
   "outputs": [
    {
     "data": {
      "text/plain": [
       "transactionFrequencySegment\n",
       "SingleTransaction      737397\n",
       "MultipleTransaction    141961\n",
       "Name: count, dtype: int64"
      ]
     },
     "execution_count": 108,
     "metadata": {},
     "output_type": "execute_result"
    }
   ],
   "source": [
    "# Counts based on transaction frequency segments\n",
    "transaction_data['transactionFrequencySegment'].value_counts()"
   ]
  },
  {
   "cell_type": "code",
   "execution_count": 109,
   "metadata": {},
   "outputs": [
    {
     "data": {
      "text/plain": [
       "transactionFrequencySegment\n",
       "MultipleTransaction   3347.27\n",
       "SingleTransaction     1567.79\n",
       "Name: totalTransactionAmount, dtype: float64"
      ]
     },
     "execution_count": 109,
     "metadata": {},
     "output_type": "execute_result"
    }
   ],
   "source": [
    "# Calculating the average transaction based on transactionFrequencySegment\n",
    "transaction_data.groupby('transactionFrequencySegment')['totalTransactionAmount'].mean()"
   ]
  },
  {
   "cell_type": "markdown",
   "metadata": {},
   "source": [
    "The transaction frequency segment appears to be associated with differences in spending behavior. Customers who engage in multiple transactions have a higher average total transaction amount, while those who make a single transaction tend to spend less on average."
   ]
  },
  {
   "cell_type": "code",
   "execution_count": 110,
   "metadata": {},
   "outputs": [
    {
     "data": {
      "text/plain": [
       "count    879358.00\n",
       "mean       1855.07\n",
       "std        7188.32\n",
       "min           0.00\n",
       "25%         200.00\n",
       "50%         533.00\n",
       "75%        1500.00\n",
       "max     1560034.99\n",
       "Name: totalTransactionAmount, dtype: float64"
      ]
     },
     "execution_count": 110,
     "metadata": {},
     "output_type": "execute_result"
    }
   ],
   "source": [
    "# Getting statistical measures of totalTransactionAmount\n",
    "transaction_data['totalTransactionAmount'].describe()\n",
    "\n",
    "#to display numbers without scientific notation\n",
    "#pd.options.display.float_format = '{:.2f}'.format "
   ]
  },
  {
   "cell_type": "markdown",
   "metadata": {},
   "source": [
    "The transaction amounts in the dataset span a wide range, ranging from zero to very high values. The presence of transactions with zero amounts warrants further investigation. Additionally, while 75% of the transactions have amounts below 1500 units, the maximum transaction amount reaches 1,560,034 units, indicating the possibility of outliers that should be examined."
   ]
  },
  {
   "cell_type": "code",
   "execution_count": 111,
   "metadata": {},
   "outputs": [
    {
     "data": {
      "text/html": [
       "<div>\n",
       "<style scoped>\n",
       "    .dataframe tbody tr th:only-of-type {\n",
       "        vertical-align: middle;\n",
       "    }\n",
       "\n",
       "    .dataframe tbody tr th {\n",
       "        vertical-align: top;\n",
       "    }\n",
       "\n",
       "    .dataframe thead th {\n",
       "        text-align: right;\n",
       "    }\n",
       "</style>\n",
       "<table border=\"1\" class=\"dataframe\">\n",
       "  <thead>\n",
       "    <tr style=\"text-align: right;\">\n",
       "      <th></th>\n",
       "      <th>CustomerID</th>\n",
       "      <th>transactionFrequency</th>\n",
       "      <th>totalTransactionAmount</th>\n",
       "      <th>transactionFrequencySegment</th>\n",
       "    </tr>\n",
       "  </thead>\n",
       "  <tbody>\n",
       "    <tr>\n",
       "      <th>844</th>\n",
       "      <td>C1013128</td>\n",
       "      <td>1</td>\n",
       "      <td>0.00</td>\n",
       "      <td>SingleTransaction</td>\n",
       "    </tr>\n",
       "    <tr>\n",
       "      <th>3076</th>\n",
       "      <td>C1021326</td>\n",
       "      <td>1</td>\n",
       "      <td>0.00</td>\n",
       "      <td>SingleTransaction</td>\n",
       "    </tr>\n",
       "    <tr>\n",
       "      <th>3788</th>\n",
       "      <td>C1023939</td>\n",
       "      <td>1</td>\n",
       "      <td>0.00</td>\n",
       "      <td>SingleTransaction</td>\n",
       "    </tr>\n",
       "    <tr>\n",
       "      <th>3860</th>\n",
       "      <td>C1024147</td>\n",
       "      <td>1</td>\n",
       "      <td>0.00</td>\n",
       "      <td>SingleTransaction</td>\n",
       "    </tr>\n",
       "    <tr>\n",
       "      <th>5741</th>\n",
       "      <td>C1031278</td>\n",
       "      <td>1</td>\n",
       "      <td>0.00</td>\n",
       "      <td>SingleTransaction</td>\n",
       "    </tr>\n",
       "    <tr>\n",
       "      <th>...</th>\n",
       "      <td>...</td>\n",
       "      <td>...</td>\n",
       "      <td>...</td>\n",
       "      <td>...</td>\n",
       "    </tr>\n",
       "    <tr>\n",
       "      <th>872953</th>\n",
       "      <td>C9026149</td>\n",
       "      <td>1</td>\n",
       "      <td>0.00</td>\n",
       "      <td>SingleTransaction</td>\n",
       "    </tr>\n",
       "    <tr>\n",
       "      <th>874494</th>\n",
       "      <td>C9031820</td>\n",
       "      <td>1</td>\n",
       "      <td>0.00</td>\n",
       "      <td>SingleTransaction</td>\n",
       "    </tr>\n",
       "    <tr>\n",
       "      <th>874905</th>\n",
       "      <td>C9033153</td>\n",
       "      <td>1</td>\n",
       "      <td>0.00</td>\n",
       "      <td>SingleTransaction</td>\n",
       "    </tr>\n",
       "    <tr>\n",
       "      <th>876434</th>\n",
       "      <td>C9038862</td>\n",
       "      <td>1</td>\n",
       "      <td>0.00</td>\n",
       "      <td>SingleTransaction</td>\n",
       "    </tr>\n",
       "    <tr>\n",
       "      <th>878499</th>\n",
       "      <td>C9074213</td>\n",
       "      <td>1</td>\n",
       "      <td>0.00</td>\n",
       "      <td>SingleTransaction</td>\n",
       "    </tr>\n",
       "  </tbody>\n",
       "</table>\n",
       "<p>595 rows × 4 columns</p>\n",
       "</div>"
      ],
      "text/plain": [
       "       CustomerID  transactionFrequency  totalTransactionAmount  \\\n",
       "844      C1013128                     1                    0.00   \n",
       "3076     C1021326                     1                    0.00   \n",
       "3788     C1023939                     1                    0.00   \n",
       "3860     C1024147                     1                    0.00   \n",
       "5741     C1031278                     1                    0.00   \n",
       "...           ...                   ...                     ...   \n",
       "872953   C9026149                     1                    0.00   \n",
       "874494   C9031820                     1                    0.00   \n",
       "874905   C9033153                     1                    0.00   \n",
       "876434   C9038862                     1                    0.00   \n",
       "878499   C9074213                     1                    0.00   \n",
       "\n",
       "       transactionFrequencySegment  \n",
       "844              SingleTransaction  \n",
       "3076             SingleTransaction  \n",
       "3788             SingleTransaction  \n",
       "3860             SingleTransaction  \n",
       "5741             SingleTransaction  \n",
       "...                            ...  \n",
       "872953           SingleTransaction  \n",
       "874494           SingleTransaction  \n",
       "874905           SingleTransaction  \n",
       "876434           SingleTransaction  \n",
       "878499           SingleTransaction  \n",
       "\n",
       "[595 rows x 4 columns]"
      ]
     },
     "execution_count": 111,
     "metadata": {},
     "output_type": "execute_result"
    }
   ],
   "source": [
    "# fetching data with zero transaction amount\n",
    "transaction_data[transaction_data['totalTransactionAmount']==0]"
   ]
  },
  {
   "cell_type": "markdown",
   "metadata": {},
   "source": [
    "We have identified 595 transactions with zero amounts, which could be attributed to data entry errors or potentially reflect instances where discounts or promotional offers resulted in zero transaction amounts."
   ]
  },
  {
   "cell_type": "markdown",
   "metadata": {},
   "source": [
    "Let's find outliers"
   ]
  },
  {
   "cell_type": "code",
   "execution_count": 112,
   "metadata": {},
   "outputs": [
    {
     "name": "stdout",
     "output_type": "stream",
     "text": [
      "Number of Outliers: 91113\n"
     ]
    }
   ],
   "source": [
    "# Calculating the IQR (Interquartile Range)\n",
    "Q1 = transaction_data['totalTransactionAmount'].quantile(0.25)\n",
    "Q3 = transaction_data['totalTransactionAmount'].quantile(0.75)\n",
    "IQR = Q3 - Q1\n",
    "\n",
    "# Defining the lower and upper bounds to identify outliers\n",
    "lower_bound = Q1 - 1.5 * IQR\n",
    "upper_bound = Q3 + 1.5 * IQR\n",
    "\n",
    "# Identifying outliers\n",
    "outliers = transaction_data[(transaction_data['totalTransactionAmount'] < lower_bound) | (transaction_data['totalTransactionAmount'] > upper_bound)]\n",
    "\n",
    "# Print or analyze the 'outliers' DataFrame\n",
    "print(\"Number of Outliers:\", len(outliers))"
   ]
  },
  {
   "cell_type": "code",
   "execution_count": 113,
   "metadata": {},
   "outputs": [
    {
     "data": {
      "text/plain": [
       "879358"
      ]
     },
     "execution_count": 113,
     "metadata": {},
     "output_type": "execute_result"
    }
   ],
   "source": [
    "len(transaction_data)"
   ]
  },
  {
   "cell_type": "markdown",
   "metadata": {},
   "source": [
    "Let's segment the data based on transaction amounts:  \n",
    "amounts less than the first quartile (Q1) can be categorized as 'LowSpenders'  \n",
    "amounts between Q1 and the upper bound (Q3 + 1.5*IQR) as 'MidrangeSpenders' and  \n",
    "outliers as 'HighSpenders'."
   ]
  },
  {
   "cell_type": "code",
   "execution_count": 114,
   "metadata": {},
   "outputs": [],
   "source": [
    "# Define the upper bound for outliers\n",
    "upper_bound_outliers = 3450\n",
    "\n",
    "# Create a new column 'spendingSegment' to store segment labels\n",
    "transaction_data['spendingSegment'] = ''\n",
    "\n",
    "# Assign segment labels based on the defined criteria\n",
    "transaction_data.loc[transaction_data['totalTransactionAmount'] < transaction_data['totalTransactionAmount'].quantile(0.25), 'spendingSegment'] = 'LowSpender'\n",
    "transaction_data.loc[(transaction_data['totalTransactionAmount'] >= transaction_data['totalTransactionAmount'].quantile(0.25)) & (transaction_data['totalTransactionAmount'] <= upper_bound_outliers), 'spendingSegment'] = 'MidrangeSpender'\n",
    "transaction_data.loc[transaction_data['totalTransactionAmount'] > upper_bound_outliers, 'spendingSegment'] = 'HighSpender'"
   ]
  },
  {
   "cell_type": "code",
   "execution_count": 115,
   "metadata": {},
   "outputs": [
    {
     "data": {
      "text/html": [
       "<div>\n",
       "<style scoped>\n",
       "    .dataframe tbody tr th:only-of-type {\n",
       "        vertical-align: middle;\n",
       "    }\n",
       "\n",
       "    .dataframe tbody tr th {\n",
       "        vertical-align: top;\n",
       "    }\n",
       "\n",
       "    .dataframe thead th {\n",
       "        text-align: right;\n",
       "    }\n",
       "</style>\n",
       "<table border=\"1\" class=\"dataframe\">\n",
       "  <thead>\n",
       "    <tr style=\"text-align: right;\">\n",
       "      <th></th>\n",
       "      <th>CustomerID</th>\n",
       "      <th>transactionFrequency</th>\n",
       "      <th>totalTransactionAmount</th>\n",
       "      <th>transactionFrequencySegment</th>\n",
       "      <th>spendingSegment</th>\n",
       "    </tr>\n",
       "  </thead>\n",
       "  <tbody>\n",
       "    <tr>\n",
       "      <th>0</th>\n",
       "      <td>C1010011</td>\n",
       "      <td>2</td>\n",
       "      <td>5106.00</td>\n",
       "      <td>MultipleTransaction</td>\n",
       "      <td>HighSpender</td>\n",
       "    </tr>\n",
       "    <tr>\n",
       "      <th>1</th>\n",
       "      <td>C1010012</td>\n",
       "      <td>1</td>\n",
       "      <td>1499.00</td>\n",
       "      <td>SingleTransaction</td>\n",
       "      <td>MidrangeSpender</td>\n",
       "    </tr>\n",
       "    <tr>\n",
       "      <th>2</th>\n",
       "      <td>C1010014</td>\n",
       "      <td>2</td>\n",
       "      <td>1455.00</td>\n",
       "      <td>MultipleTransaction</td>\n",
       "      <td>MidrangeSpender</td>\n",
       "    </tr>\n",
       "    <tr>\n",
       "      <th>3</th>\n",
       "      <td>C1010018</td>\n",
       "      <td>1</td>\n",
       "      <td>30.00</td>\n",
       "      <td>SingleTransaction</td>\n",
       "      <td>LowSpender</td>\n",
       "    </tr>\n",
       "    <tr>\n",
       "      <th>4</th>\n",
       "      <td>C1010024</td>\n",
       "      <td>1</td>\n",
       "      <td>5000.00</td>\n",
       "      <td>SingleTransaction</td>\n",
       "      <td>HighSpender</td>\n",
       "    </tr>\n",
       "    <tr>\n",
       "      <th>...</th>\n",
       "      <td>...</td>\n",
       "      <td>...</td>\n",
       "      <td>...</td>\n",
       "      <td>...</td>\n",
       "      <td>...</td>\n",
       "    </tr>\n",
       "    <tr>\n",
       "      <th>879353</th>\n",
       "      <td>C9099836</td>\n",
       "      <td>1</td>\n",
       "      <td>691.00</td>\n",
       "      <td>SingleTransaction</td>\n",
       "      <td>MidrangeSpender</td>\n",
       "    </tr>\n",
       "    <tr>\n",
       "      <th>879354</th>\n",
       "      <td>C9099877</td>\n",
       "      <td>1</td>\n",
       "      <td>222.00</td>\n",
       "      <td>SingleTransaction</td>\n",
       "      <td>MidrangeSpender</td>\n",
       "    </tr>\n",
       "    <tr>\n",
       "      <th>879355</th>\n",
       "      <td>C9099919</td>\n",
       "      <td>1</td>\n",
       "      <td>126.00</td>\n",
       "      <td>SingleTransaction</td>\n",
       "      <td>LowSpender</td>\n",
       "    </tr>\n",
       "    <tr>\n",
       "      <th>879356</th>\n",
       "      <td>C9099941</td>\n",
       "      <td>1</td>\n",
       "      <td>50.00</td>\n",
       "      <td>SingleTransaction</td>\n",
       "      <td>LowSpender</td>\n",
       "    </tr>\n",
       "    <tr>\n",
       "      <th>879357</th>\n",
       "      <td>C9099956</td>\n",
       "      <td>1</td>\n",
       "      <td>855.00</td>\n",
       "      <td>SingleTransaction</td>\n",
       "      <td>MidrangeSpender</td>\n",
       "    </tr>\n",
       "  </tbody>\n",
       "</table>\n",
       "<p>879358 rows × 5 columns</p>\n",
       "</div>"
      ],
      "text/plain": [
       "       CustomerID  transactionFrequency  totalTransactionAmount  \\\n",
       "0        C1010011                     2                 5106.00   \n",
       "1        C1010012                     1                 1499.00   \n",
       "2        C1010014                     2                 1455.00   \n",
       "3        C1010018                     1                   30.00   \n",
       "4        C1010024                     1                 5000.00   \n",
       "...           ...                   ...                     ...   \n",
       "879353   C9099836                     1                  691.00   \n",
       "879354   C9099877                     1                  222.00   \n",
       "879355   C9099919                     1                  126.00   \n",
       "879356   C9099941                     1                   50.00   \n",
       "879357   C9099956                     1                  855.00   \n",
       "\n",
       "       transactionFrequencySegment  spendingSegment  \n",
       "0              MultipleTransaction      HighSpender  \n",
       "1                SingleTransaction  MidrangeSpender  \n",
       "2              MultipleTransaction  MidrangeSpender  \n",
       "3                SingleTransaction       LowSpender  \n",
       "4                SingleTransaction      HighSpender  \n",
       "...                            ...              ...  \n",
       "879353           SingleTransaction  MidrangeSpender  \n",
       "879354           SingleTransaction  MidrangeSpender  \n",
       "879355           SingleTransaction       LowSpender  \n",
       "879356           SingleTransaction       LowSpender  \n",
       "879357           SingleTransaction  MidrangeSpender  \n",
       "\n",
       "[879358 rows x 5 columns]"
      ]
     },
     "execution_count": 115,
     "metadata": {},
     "output_type": "execute_result"
    }
   ],
   "source": [
    "transaction_data"
   ]
  },
  {
   "cell_type": "code",
   "execution_count": 116,
   "metadata": {},
   "outputs": [
    {
     "data": {
      "text/html": [
       "<div>\n",
       "<style scoped>\n",
       "    .dataframe tbody tr th:only-of-type {\n",
       "        vertical-align: middle;\n",
       "    }\n",
       "\n",
       "    .dataframe tbody tr th {\n",
       "        vertical-align: top;\n",
       "    }\n",
       "\n",
       "    .dataframe thead th {\n",
       "        text-align: right;\n",
       "    }\n",
       "</style>\n",
       "<table border=\"1\" class=\"dataframe\">\n",
       "  <thead>\n",
       "    <tr style=\"text-align: right;\">\n",
       "      <th></th>\n",
       "      <th>CustomerID</th>\n",
       "      <th>transactionFrequency</th>\n",
       "      <th>totalTransactionAmount</th>\n",
       "      <th>transactionFrequencySegment</th>\n",
       "      <th>spendingSegment</th>\n",
       "      <th>MonthCount</th>\n",
       "      <th>monthFrequencySegment</th>\n",
       "    </tr>\n",
       "  </thead>\n",
       "  <tbody>\n",
       "    <tr>\n",
       "      <th>0</th>\n",
       "      <td>C1010011</td>\n",
       "      <td>2</td>\n",
       "      <td>5106.00</td>\n",
       "      <td>MultipleTransaction</td>\n",
       "      <td>HighSpender</td>\n",
       "      <td>2</td>\n",
       "      <td>Casual</td>\n",
       "    </tr>\n",
       "    <tr>\n",
       "      <th>1</th>\n",
       "      <td>C1010012</td>\n",
       "      <td>1</td>\n",
       "      <td>1499.00</td>\n",
       "      <td>SingleTransaction</td>\n",
       "      <td>MidrangeSpender</td>\n",
       "      <td>1</td>\n",
       "      <td>Occasional</td>\n",
       "    </tr>\n",
       "    <tr>\n",
       "      <th>2</th>\n",
       "      <td>C1010014</td>\n",
       "      <td>2</td>\n",
       "      <td>1455.00</td>\n",
       "      <td>MultipleTransaction</td>\n",
       "      <td>MidrangeSpender</td>\n",
       "      <td>1</td>\n",
       "      <td>Occasional</td>\n",
       "    </tr>\n",
       "    <tr>\n",
       "      <th>3</th>\n",
       "      <td>C1010018</td>\n",
       "      <td>1</td>\n",
       "      <td>30.00</td>\n",
       "      <td>SingleTransaction</td>\n",
       "      <td>LowSpender</td>\n",
       "      <td>1</td>\n",
       "      <td>Occasional</td>\n",
       "    </tr>\n",
       "    <tr>\n",
       "      <th>4</th>\n",
       "      <td>C1010024</td>\n",
       "      <td>1</td>\n",
       "      <td>5000.00</td>\n",
       "      <td>SingleTransaction</td>\n",
       "      <td>HighSpender</td>\n",
       "      <td>1</td>\n",
       "      <td>Occasional</td>\n",
       "    </tr>\n",
       "    <tr>\n",
       "      <th>...</th>\n",
       "      <td>...</td>\n",
       "      <td>...</td>\n",
       "      <td>...</td>\n",
       "      <td>...</td>\n",
       "      <td>...</td>\n",
       "      <td>...</td>\n",
       "      <td>...</td>\n",
       "    </tr>\n",
       "    <tr>\n",
       "      <th>879353</th>\n",
       "      <td>C9099836</td>\n",
       "      <td>1</td>\n",
       "      <td>691.00</td>\n",
       "      <td>SingleTransaction</td>\n",
       "      <td>MidrangeSpender</td>\n",
       "      <td>1</td>\n",
       "      <td>Occasional</td>\n",
       "    </tr>\n",
       "    <tr>\n",
       "      <th>879354</th>\n",
       "      <td>C9099877</td>\n",
       "      <td>1</td>\n",
       "      <td>222.00</td>\n",
       "      <td>SingleTransaction</td>\n",
       "      <td>MidrangeSpender</td>\n",
       "      <td>1</td>\n",
       "      <td>Occasional</td>\n",
       "    </tr>\n",
       "    <tr>\n",
       "      <th>879355</th>\n",
       "      <td>C9099919</td>\n",
       "      <td>1</td>\n",
       "      <td>126.00</td>\n",
       "      <td>SingleTransaction</td>\n",
       "      <td>LowSpender</td>\n",
       "      <td>1</td>\n",
       "      <td>Occasional</td>\n",
       "    </tr>\n",
       "    <tr>\n",
       "      <th>879356</th>\n",
       "      <td>C9099941</td>\n",
       "      <td>1</td>\n",
       "      <td>50.00</td>\n",
       "      <td>SingleTransaction</td>\n",
       "      <td>LowSpender</td>\n",
       "      <td>1</td>\n",
       "      <td>Occasional</td>\n",
       "    </tr>\n",
       "    <tr>\n",
       "      <th>879357</th>\n",
       "      <td>C9099956</td>\n",
       "      <td>1</td>\n",
       "      <td>855.00</td>\n",
       "      <td>SingleTransaction</td>\n",
       "      <td>MidrangeSpender</td>\n",
       "      <td>1</td>\n",
       "      <td>Occasional</td>\n",
       "    </tr>\n",
       "  </tbody>\n",
       "</table>\n",
       "<p>879358 rows × 7 columns</p>\n",
       "</div>"
      ],
      "text/plain": [
       "       CustomerID  transactionFrequency  totalTransactionAmount  \\\n",
       "0        C1010011                     2                 5106.00   \n",
       "1        C1010012                     1                 1499.00   \n",
       "2        C1010014                     2                 1455.00   \n",
       "3        C1010018                     1                   30.00   \n",
       "4        C1010024                     1                 5000.00   \n",
       "...           ...                   ...                     ...   \n",
       "879353   C9099836                     1                  691.00   \n",
       "879354   C9099877                     1                  222.00   \n",
       "879355   C9099919                     1                  126.00   \n",
       "879356   C9099941                     1                   50.00   \n",
       "879357   C9099956                     1                  855.00   \n",
       "\n",
       "       transactionFrequencySegment  spendingSegment  MonthCount  \\\n",
       "0              MultipleTransaction      HighSpender           2   \n",
       "1                SingleTransaction  MidrangeSpender           1   \n",
       "2              MultipleTransaction  MidrangeSpender           1   \n",
       "3                SingleTransaction       LowSpender           1   \n",
       "4                SingleTransaction      HighSpender           1   \n",
       "...                            ...              ...         ...   \n",
       "879353           SingleTransaction  MidrangeSpender           1   \n",
       "879354           SingleTransaction  MidrangeSpender           1   \n",
       "879355           SingleTransaction       LowSpender           1   \n",
       "879356           SingleTransaction       LowSpender           1   \n",
       "879357           SingleTransaction  MidrangeSpender           1   \n",
       "\n",
       "       monthFrequencySegment  \n",
       "0                     Casual  \n",
       "1                 Occasional  \n",
       "2                 Occasional  \n",
       "3                 Occasional  \n",
       "4                 Occasional  \n",
       "...                      ...  \n",
       "879353            Occasional  \n",
       "879354            Occasional  \n",
       "879355            Occasional  \n",
       "879356            Occasional  \n",
       "879357            Occasional  \n",
       "\n",
       "[879358 rows x 7 columns]"
      ]
     },
     "execution_count": 116,
     "metadata": {},
     "output_type": "execute_result"
    }
   ],
   "source": [
    "# combining the month count data with transaction data\n",
    "transaction_data = pd.merge(transaction_data,customer_month_counts,on='CustomerID')\n",
    "transaction_data"
   ]
  },
  {
   "cell_type": "markdown",
   "metadata": {},
   "source": [
    "Let's create a customer profile based on all the segemenations done so far."
   ]
  },
  {
   "cell_type": "code",
   "execution_count": 117,
   "metadata": {},
   "outputs": [
    {
     "data": {
      "text/html": [
       "<div>\n",
       "<style scoped>\n",
       "    .dataframe tbody tr th:only-of-type {\n",
       "        vertical-align: middle;\n",
       "    }\n",
       "\n",
       "    .dataframe tbody tr th {\n",
       "        vertical-align: top;\n",
       "    }\n",
       "\n",
       "    .dataframe thead th {\n",
       "        text-align: right;\n",
       "    }\n",
       "</style>\n",
       "<table border=\"1\" class=\"dataframe\">\n",
       "  <thead>\n",
       "    <tr style=\"text-align: right;\">\n",
       "      <th></th>\n",
       "      <th>CustomerID</th>\n",
       "      <th>transactionFrequency</th>\n",
       "      <th>totalTransactionAmount</th>\n",
       "      <th>transactionFrequencySegment</th>\n",
       "      <th>spendingSegment</th>\n",
       "      <th>MonthCount</th>\n",
       "      <th>monthFrequencySegment</th>\n",
       "      <th>profile</th>\n",
       "    </tr>\n",
       "  </thead>\n",
       "  <tbody>\n",
       "    <tr>\n",
       "      <th>879356</th>\n",
       "      <td>C9099941</td>\n",
       "      <td>1</td>\n",
       "      <td>50.00</td>\n",
       "      <td>SingleTransaction</td>\n",
       "      <td>LowSpender</td>\n",
       "      <td>1</td>\n",
       "      <td>Occasional</td>\n",
       "      <td>Occasional_SingleTransaction_LowSpender</td>\n",
       "    </tr>\n",
       "    <tr>\n",
       "      <th>879357</th>\n",
       "      <td>C9099956</td>\n",
       "      <td>1</td>\n",
       "      <td>855.00</td>\n",
       "      <td>SingleTransaction</td>\n",
       "      <td>MidrangeSpender</td>\n",
       "      <td>1</td>\n",
       "      <td>Occasional</td>\n",
       "      <td>Occasional_SingleTransaction_MidrangeSpender</td>\n",
       "    </tr>\n",
       "  </tbody>\n",
       "</table>\n",
       "</div>"
      ],
      "text/plain": [
       "       CustomerID  transactionFrequency  totalTransactionAmount  \\\n",
       "879356   C9099941                     1                   50.00   \n",
       "879357   C9099956                     1                  855.00   \n",
       "\n",
       "       transactionFrequencySegment  spendingSegment  MonthCount  \\\n",
       "879356           SingleTransaction       LowSpender           1   \n",
       "879357           SingleTransaction  MidrangeSpender           1   \n",
       "\n",
       "       monthFrequencySegment                                       profile  \n",
       "879356            Occasional       Occasional_SingleTransaction_LowSpender  \n",
       "879357            Occasional  Occasional_SingleTransaction_MidrangeSpender  "
      ]
     },
     "execution_count": 117,
     "metadata": {},
     "output_type": "execute_result"
    }
   ],
   "source": [
    "# Creating customer profile feature\n",
    "transaction_data['profile'] = transaction_data['monthFrequencySegment']+'_'+transaction_data['transactionFrequencySegment']+'_'+transaction_data['spendingSegment']\n",
    "transaction_data.tail(2)"
   ]
  },
  {
   "cell_type": "code",
   "execution_count": 118,
   "metadata": {},
   "outputs": [
    {
     "data": {
      "text/plain": [
       "profile\n",
       "Occasional_SingleTransaction_MidrangeSpender      469572\n",
       "Occasional_SingleTransaction_LowSpender           207380\n",
       "Occasional_SingleTransaction_HighSpender           60445\n",
       "Occasional_MultipleTransaction_MidrangeSpender     52573\n",
       "Casual_MultipleTransaction_MidrangeSpender         52127\n",
       "Casual_MultipleTransaction_HighSpender             15934\n",
       "Occasional_MultipleTransaction_HighSpender         14700\n",
       "Occasional_MultipleTransaction_LowSpender           3496\n",
       "Casual_MultipleTransaction_LowSpender               3025\n",
       "Regular_MultipleTransaction_MidrangeSpender           72\n",
       "Regular_MultipleTransaction_HighSpender               34\n",
       "Name: count, dtype: int64"
      ]
     },
     "execution_count": 118,
     "metadata": {},
     "output_type": "execute_result"
    }
   ],
   "source": [
    "# Customer profiles and respective number of customers\n",
    "transaction_data['profile'].value_counts()"
   ]
  },
  {
   "cell_type": "markdown",
   "metadata": {},
   "source": [
    "Most customers belong to the Occasional_SingleTransaction segment, with a smaller number found in the Regular_MultipleTransaction segment."
   ]
  },
  {
   "cell_type": "markdown",
   "metadata": {},
   "source": [
    "Let's explore the average transaction amounts for customers categorized into segments"
   ]
  },
  {
   "cell_type": "code",
   "execution_count": 119,
   "metadata": {},
   "outputs": [
    {
     "data": {
      "text/html": [
       "<div>\n",
       "<style scoped>\n",
       "    .dataframe tbody tr th:only-of-type {\n",
       "        vertical-align: middle;\n",
       "    }\n",
       "\n",
       "    .dataframe tbody tr th {\n",
       "        vertical-align: top;\n",
       "    }\n",
       "\n",
       "    .dataframe thead th {\n",
       "        text-align: right;\n",
       "    }\n",
       "</style>\n",
       "<table border=\"1\" class=\"dataframe\">\n",
       "  <thead>\n",
       "    <tr style=\"text-align: right;\">\n",
       "      <th></th>\n",
       "      <th>profile</th>\n",
       "      <th>total</th>\n",
       "    </tr>\n",
       "  </thead>\n",
       "  <tbody>\n",
       "    <tr>\n",
       "      <th>7</th>\n",
       "      <td>Occasional_SingleTransaction_LowSpender</td>\n",
       "      <td>84.26</td>\n",
       "    </tr>\n",
       "    <tr>\n",
       "      <th>4</th>\n",
       "      <td>Occasional_MultipleTransaction_LowSpender</td>\n",
       "      <td>121.34</td>\n",
       "    </tr>\n",
       "    <tr>\n",
       "      <th>1</th>\n",
       "      <td>Casual_MultipleTransaction_LowSpender</td>\n",
       "      <td>122.74</td>\n",
       "    </tr>\n",
       "    <tr>\n",
       "      <th>8</th>\n",
       "      <td>Occasional_SingleTransaction_MidrangeSpender</td>\n",
       "      <td>922.08</td>\n",
       "    </tr>\n",
       "    <tr>\n",
       "      <th>5</th>\n",
       "      <td>Occasional_MultipleTransaction_MidrangeSpender</td>\n",
       "      <td>1296.77</td>\n",
       "    </tr>\n",
       "    <tr>\n",
       "      <th>2</th>\n",
       "      <td>Casual_MultipleTransaction_MidrangeSpender</td>\n",
       "      <td>1329.53</td>\n",
       "    </tr>\n",
       "    <tr>\n",
       "      <th>10</th>\n",
       "      <td>Regular_MultipleTransaction_MidrangeSpender</td>\n",
       "      <td>1478.22</td>\n",
       "    </tr>\n",
       "    <tr>\n",
       "      <th>3</th>\n",
       "      <td>Occasional_MultipleTransaction_HighSpender</td>\n",
       "      <td>10970.24</td>\n",
       "    </tr>\n",
       "    <tr>\n",
       "      <th>0</th>\n",
       "      <td>Casual_MultipleTransaction_HighSpender</td>\n",
       "      <td>10988.43</td>\n",
       "    </tr>\n",
       "    <tr>\n",
       "      <th>6</th>\n",
       "      <td>Occasional_SingleTransaction_HighSpender</td>\n",
       "      <td>11673.91</td>\n",
       "    </tr>\n",
       "    <tr>\n",
       "      <th>9</th>\n",
       "      <td>Regular_MultipleTransaction_HighSpender</td>\n",
       "      <td>13197.93</td>\n",
       "    </tr>\n",
       "  </tbody>\n",
       "</table>\n",
       "</div>"
      ],
      "text/plain": [
       "                                           profile    total\n",
       "7          Occasional_SingleTransaction_LowSpender    84.26\n",
       "4        Occasional_MultipleTransaction_LowSpender   121.34\n",
       "1            Casual_MultipleTransaction_LowSpender   122.74\n",
       "8     Occasional_SingleTransaction_MidrangeSpender   922.08\n",
       "5   Occasional_MultipleTransaction_MidrangeSpender  1296.77\n",
       "2       Casual_MultipleTransaction_MidrangeSpender  1329.53\n",
       "10     Regular_MultipleTransaction_MidrangeSpender  1478.22\n",
       "3       Occasional_MultipleTransaction_HighSpender 10970.24\n",
       "0           Casual_MultipleTransaction_HighSpender 10988.43\n",
       "6         Occasional_SingleTransaction_HighSpender 11673.91\n",
       "9          Regular_MultipleTransaction_HighSpender 13197.93"
      ]
     },
     "execution_count": 119,
     "metadata": {},
     "output_type": "execute_result"
    }
   ],
   "source": [
    "# Calculated the average transaction amount based on customer profiles\n",
    "profile_amnt = transaction_data.groupby('profile')['totalTransactionAmount'].mean().reset_index(name='total')\n",
    "sorted_profile_amnt = profile_amnt.sort_values(by= 'total')\n",
    "sorted_profile_amnt"
   ]
  },
  {
   "cell_type": "code",
   "execution_count": 120,
   "metadata": {},
   "outputs": [
    {
     "data": {
      "image/png": "[encoded data removed]",
      "text/plain": [
       "<Figure size 1000x600 with 1 Axes>"
      ]
     },
     "metadata": {},
     "output_type": "display_data"
    }
   ],
   "source": [
    "import matplotlib.pyplot as plt\n",
    "\n",
    "# Creating a horizontal bar chart\n",
    "plt.figure(figsize=(10, 6))\n",
    "plt.barh(sorted_profile_amnt['profile'], sorted_profile_amnt['total'])\n",
    "plt.xlabel('Average Transaction Amount')\n",
    "plt.ylabel('Profile Segments')\n",
    "plt.title('Profile Distribution by Average Transaction Amount')\n",
    "plt.show()\n"
   ]
  },
  {
   "cell_type": "markdown",
   "metadata": {},
   "source": [
    "From the bar graph, it's evident that occasional_singleTransaction low and medium spenders have lower average transaction amounts, despite their higher customer count within the segment.  \n",
    "On the other hand, regular_multipleTransaction_highSpenders, although fewer in number, exhibit the highest average spending.  \n",
    "Notably, occasional_singleTransaction_highSpenders form a significant segment both in terms of customer count and average spending."
   ]
  },
  {
   "cell_type": "code",
   "execution_count": 121,
   "metadata": {},
   "outputs": [],
   "source": [
    "# Saving the file\n",
    "transaction_data.to_csv('transaction_data.csv',index= False)\n",
    "\n",
    "# final datset\n",
    "final_data = pd.merge(data, transaction_data, on= 'CustomerID')\n",
    "final_data.to_csv('final_data.csv',index= False)"
   ]
  },
  {
   "cell_type": "markdown",
   "metadata": {},
   "source": [
    "### Summary Insights"
   ]
  },
  {
   "cell_type": "markdown",
   "metadata": {},
   "source": [
    "**Occasional Single Transaction (Low and Medium Spenders)**: High customer count, lower average spend. \n",
    "\n",
    "**Regular Multiple Transaction (High Spenders)**: Fewer customers but highest average spending.\n",
    "\n",
    "**Occasional Single Transaction (High Spenders)**: Significant customer count and above-average spending.\n",
    "\n",
    "**Actionable Insights**:\n",
    "\n",
    "**Segment-Specific Marketing**: Tailor marketing for low and medium spenders to increase average transaction value. \n",
    "\n",
    "**Retaining High Spenders**: Prioritize high spender retention through personalized experiences and exclusive offers.\n",
    "\n",
    "**Encourage Occasional High Spenders**: Engage occasional high spenders with targeted campaigns to boost transaction frequency.\n",
    "\n",
    "These concise insights offer a clear roadmap for optimizing strategies based on customer segments and spending behaviors."
   ]
  }
 ],
 "metadata": {
  "kernelspec": {
   "display_name": "Python 3",
   "language": "python",
   "name": "python3"
  },
  "language_info": {
   "codemirror_mode": {
    "name": "ipython",
    "version": 3
   },
   "file_extension": ".py",
   "mimetype": "text/x-python",
   "name": "python",
   "nbconvert_exporter": "python",
   "pygments_lexer": "ipython3",
   "version": "3.11.6"
  },
  "orig_nbformat": 4
 },
 "nbformat": 4,
 "nbformat_minor": 2
}
